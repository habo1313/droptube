{
 "cells": [
  {
   "cell_type": "markdown",
   "metadata": {
    "nbpresent": {
     "id": "f5632ddc-5446-4fb8-a421-00753dbaa8f8"
    },
    "slideshow": {
     "slide_type": "slide"
    }
   },
   "source": [
    "# Simulation of coal drop tube reactor\n",
    "\n",
    "- Drop tube reactor.\n",
    "- Coal is fed into a gas stream composed by CO2 and N2. \n",
    "- Assumptions\n",
    "    - It is assumed that the coal feed is much lower than the gas feed  ($\\dot{m}_c << \\dot{m}_g$)\n",
    "    - The gas composition is not affected by the char reactions (*one-way coupling*)"
   ]
  },
  {
   "cell_type": "markdown",
   "metadata": {
    "slideshow": {
     "slide_type": "slide"
    }
   },
   "source": [
    "## Jupyter notebook\n",
    "\n",
    "The Jupyter Notebook is a web application that allows you to create and share documents that contain \n",
    "- live code (`python`)\n",
    "- equations (`latex`) \n",
    "- visualizations (`matplotlib`)\n",
    "- explanatory text (`MarkDown`) \n"
   ]
  },
  {
   "cell_type": "markdown",
   "metadata": {
    "slideshow": {
     "slide_type": "subslide"
    }
   },
   "source": [
    "- The first things to do in a `python` code/notebook is to import the external modules\n",
    "- The function for evaluating the char conversion in a drop tube are contained in the module `char.py`"
   ]
  },
  {
   "cell_type": "code",
   "execution_count": 1,
   "metadata": {
    "collapsed": true,
    "nbpresent": {
     "id": "d9dd72fc-b1ac-4818-bc84-886d222111c4"
    },
    "slideshow": {
     "slide_type": "-"
    }
   },
   "outputs": [],
   "source": [
    "import numpy as np\n",
    "import matplotlib.pyplot as plt\n",
    "try:\n",
    "    plt.style.use(['mystyle', 'mystyle-nb'])\n",
    "except:\n",
    "    plt.style.use('ggplot')\n",
    "%matplotlib inline\n",
    "\n",
    "import char"
   ]
  },
  {
   "cell_type": "markdown",
   "metadata": {
    "nbpresent": {
     "id": "3c812fb0-ed9e-4db9-89c4-b49f45331d8c"
    },
    "slideshow": {
     "slide_type": "subslide"
    }
   },
   "source": [
    "The main input data for the Drop Tube Reactor are the following:"
   ]
  },
  {
   "cell_type": "code",
   "execution_count": 2,
   "metadata": {
    "collapsed": false,
    "nbpresent": {
     "id": "76d94df9-75ac-4d97-9abf-66542b96e86d"
    },
    "slideshow": {
     "slide_type": "-"
    }
   },
   "outputs": [],
   "source": [
    "atm = 101325.0\n",
    "Ptot = 10. # Total pressure, atm\n",
    "Pg = 5. # Partial pressure of CO2, atm\n",
    "Tg = 1600 # gas temperature\n",
    "Twall = 1600 #wall temperature"
   ]
  },
  {
   "cell_type": "markdown",
   "metadata": {
    "nbpresent": {
     "id": "dc868009-e8a2-434a-8d6f-71de2471095f"
    },
    "slideshow": {
     "slide_type": "subslide"
    }
   },
   "source": [
    "The following intrinsic kinetics properties are assumed for the given coal:"
   ]
  },
  {
   "cell_type": "code",
   "execution_count": 3,
   "metadata": {
    "code_folding": [],
    "collapsed": true,
    "nbpresent": {
     "id": "e3d28793-af69-4ab1-b7b4-4158d3995900"
    },
    "slideshow": {
     "slide_type": "-"
    }
   },
   "outputs": [],
   "source": [
    "kin = [1.79e6,  # pre-exp kg/s-m2\n",
    "       335e6,   # activation energy J/kmol\n",
    "       0.35     # reaction order\n",
    "      ]    \n",
    "\n",
    "Aint0 = 280e3  # specific intrinsic surface m2/kg\n",
    "tauf=10.0      #structural char pore parameter\n",
    "psi0 = 3.8     # structural parameter for the random pore model\n",
    "dp = 100e-6    # particle diameter\n",
    "Tp = 300.0     # particle temperature"
   ]
  },
  {
   "cell_type": "markdown",
   "metadata": {
    "nbpresent": {
     "id": "38db2b9b-447f-41f0-a91a-61fb9d047b82"
    },
    "slideshow": {
     "slide_type": "subslide"
    }
   },
   "source": [
    "The coal ultimate and proximate analysis are the following:"
   ]
  },
  {
   "cell_type": "code",
   "execution_count": 4,
   "metadata": {
    "collapsed": true,
    "nbpresent": {
     "id": "3496fbec-c486-4b6f-b252-b4f8565277d0"
    },
    "slideshow": {
     "slide_type": "-"
    }
   },
   "outputs": [],
   "source": [
    "UA = np.array([75.8,  # C\n",
    "               4.98,  # H\n",
    "               16.73, # O\n",
    "               1.38,  # N\n",
    "               1.12]) # S\n",
    "UA = UA/np.sum(UA)    # normalize\n",
    "PA = np.array([51.8,  # fixed carbon\n",
    "               36.2,  # volatile matter\n",
    "               6.4,   # moisture\n",
    "               5.6])  # Ash\n",
    "PA = PA/np.sum(PA)    # normalize"
   ]
  },
  {
   "cell_type": "markdown",
   "metadata": {
    "nbpresent": {
     "id": "08192b49-bbce-40e3-a318-ab75e13c77be"
    },
    "slideshow": {
     "slide_type": "subslide"
    }
   },
   "source": [
    "Coal is at first dried, removing the moisture content:"
   ]
  },
  {
   "cell_type": "code",
   "execution_count": 5,
   "metadata": {
    "collapsed": true,
    "nbpresent": {
     "id": "6d3d7f28-aecc-4c70-a36b-fa7f7b7cbc75"
    }
   },
   "outputs": [],
   "source": [
    "PAdry = np.copy(PA)  # copy prox. analysis as received\n",
    "PAdry[3] = 0         # set moisture to 0\n",
    "PAdry = PAdry/np.sum(PAdry)  # normalize\n",
    "PAdaf = np.copy(PAdry)       # copy dry prox. analysis \n",
    "PAdaf[2]=0           # set ash to 0\n",
    "PAdaf=PAdaf/np.sum(PAdaf)    # normalize"
   ]
  },
  {
   "cell_type": "markdown",
   "metadata": {
    "nbpresent": {
     "id": "e97c1afc-ca75-4724-9bd4-1b615fa06b20"
    },
    "slideshow": {
     "slide_type": "subslide"
    }
   },
   "source": [
    "During char production, the volatile yield produced at 1473K (obtained from CPD) is the following:"
   ]
  },
  {
   "cell_type": "code",
   "execution_count": 6,
   "metadata": {
    "collapsed": false,
    "nbpresent": {
     "id": "c9fc5ad0-ff01-4a6a-a215-40d40fde8d17"
    }
   },
   "outputs": [
    {
     "name": "stdout",
     "output_type": "stream",
     "text": [
      "Q factor: 1.118\n"
     ]
    }
   ],
   "source": [
    "VMPA = PAdaf[1]  # daf volatile matter from prox. analysis\n",
    "VM = 0.46        # daf volatiles produced at 1473K\n",
    "Q = VM/VMPA      # Q-factor\n",
    "print('Q factor: {:4.3f}'.format(Q))"
   ]
  },
  {
   "cell_type": "code",
   "execution_count": 7,
   "metadata": {
    "collapsed": true,
    "nbpresent": {
     "id": "1c5dda1e-8d28-4203-a729-66cd386debe9"
    }
   },
   "outputs": [],
   "source": [
    "Ydaf = PAdry[0]+PAdry[1] # daf mass fraction on dry basis\n",
    "PAexp = np.copy(PAdry)\n",
    "PAexp[1] = VM * Ydaf\n",
    "PAexp[0]= 1 - PAexp[1] - PAexp[2]"
   ]
  },
  {
   "cell_type": "markdown",
   "metadata": {
    "nbpresent": {
     "id": "3c92c2b4-73e2-4fb5-8638-fd877e25d61c"
    },
    "slideshow": {
     "slide_type": "subslide"
    }
   },
   "source": [
    "- During pyrolysis, the mass of the dried particle is reduced from the value $m_{p,0}$ to $m_{p,1}$. \n",
    "- At the same time the diameter swells ($d_{p,1}=Sw\\cdot d_{p,0}$).\n",
    "\n",
    "- The *apparent density* becomes:\n",
    "\n",
    "\\begin{equation}\n",
    "\\frac{\\rho_{p1}}{\\rho_{p0}} = \\frac{m_{p1}}{m_{p0}}\\cdot \\left(\\frac{d_{p0}}{d_{p1}}\\right)^3=\\frac{1-y_{VM}}{Sw^3}\n",
    "\\end{equation}\n",
    "\n",
    "- The initial density is calculated from the Merrick correlation, assuming the initial porosity:"
   ]
  },
  {
   "cell_type": "code",
   "execution_count": 8,
   "metadata": {
    "collapsed": false,
    "slideshow": {
     "slide_type": "subslide"
    }
   },
   "outputs": [
    {
     "name": "stdout",
     "output_type": "stream",
     "text": [
      "Char true density: 2240.2 kg/m3\n",
      "Char app. density: 479.8 kg/m3\n",
      "Char porosity:     0.786\n"
     ]
    }
   ],
   "source": [
    "Sw=1.05        # Swelling coefficient\n",
    "eps0=0.3       # initial porosity\n",
    "yash0=PAexp[2] # ash mass fraction\n",
    "rhoT0 = char.trueDensity(UA, yash0) # initial true density from Merrick \n",
    "rho0 = rhoT0*(1-eps0)               # initial apparent density\n",
    "yash1=PAexp[2]/(PAexp[1]+PAexp[2])  # ash fraction after pyrolysis\n",
    "rhoT1 = char.trueDensity([1,0,0,0,0],yash1) # true density after pyro\n",
    "                                            # only C in char\n",
    "rho1 = rho0 * (1-PAexp[1])/pow(Sw,3)        # char apparent density\n",
    "eps1 = 1-rho1/rhoT1                         # char porosity\n",
    "print('Char true density: {:4.1f} kg/m3'.format(rhoT1))\n",
    "print('Char app. density: {:4.1f} kg/m3'.format(rho1))\n",
    "print('Char porosity:     {:1.3f}'.format(eps1)) "
   ]
  },
  {
   "cell_type": "code",
   "execution_count": 9,
   "metadata": {
    "collapsed": false,
    "slideshow": {
     "slide_type": "subslide"
    }
   },
   "outputs": [
    {
     "name": "stdout",
     "output_type": "stream",
     "text": [
      "Carbon app. density: 443.3 kg/m3\n"
     ]
    }
   ],
   "source": [
    "# calculate carbon density\n",
    "rhoa = 1000. # ash apparent density\n",
    "rhoc1 = (1-yash1)/(1./rho1-yash1/rhoa)\n",
    "print('Carbon app. density: {:4.1f} kg/m3'.format(rhoc1))"
   ]
  },
  {
   "cell_type": "code",
   "execution_count": 10,
   "metadata": {
    "collapsed": false,
    "nbpresent": {
     "id": "782cee83-783a-4221-be91-4d00439424fa"
    },
    "slideshow": {
     "slide_type": "skip"
    }
   },
   "outputs": [
    {
     "name": "stdout",
     "output_type": "stream",
     "text": [
      "After DRYING\n",
      "rhoT0 = 1389.1 kg/m3\n",
      "rho0 = 972.4 kg/m3\n",
      "eps0 = 0.30\n",
      "After PYROLYSIS\n",
      "rhoT1 = 2240.2 kg/m3\n",
      "rho1 = 479.8 kg/m3\n",
      "eps1 = 0.79\n",
      "rhoc1 = 443.3\n"
     ]
    }
   ],
   "source": [
    "print('After DRYING')\n",
    "print('rhoT0 = {:5.1f} kg/m3'.format(rhoT0))\n",
    "print('rho0 = {:5.1f} kg/m3'.format(rho0))\n",
    "print('eps0 = {:3.2f}'.format(eps0))\n",
    "print('After PYROLYSIS')\n",
    "print('rhoT1 = {:5.1f} kg/m3'.format(rhoT1))\n",
    "print('rho1 = {:5.1f} kg/m3'.format(rho1))\n",
    "print('eps1 = {:3.2f}'.format(eps1))\n",
    "print('rhoc1 = {:5.1f}'.format(rhoc1))"
   ]
  },
  {
   "cell_type": "markdown",
   "metadata": {
    "slideshow": {
     "slide_type": "slide"
    }
   },
   "source": [
    "### 3-Zone diagram\n",
    "\n",
    "The reaction rate (1/s) is calculated by:\n",
    "\n",
    "\\begin{equation}\n",
    "R = \\eta a_i k_i P_s ^n,\n",
    "\\end{equation}\n",
    "\n",
    "where the *effectiveness factor* is given by:\n",
    "\n",
    "\\begin{equation}\n",
    "\\eta = \\frac{3}{\\Phi}\\left(\\frac{1}{\\tanh \\Phi}-\\frac{1}{\\Phi}\\right)\n",
    "\\end{equation}"
   ]
  },
  {
   "cell_type": "markdown",
   "metadata": {
    "slideshow": {
     "slide_type": "subslide"
    }
   },
   "source": [
    "This formula is valid only when the order of the reaction $n=1$. However, it is assumed to be valid also for generic reaction order.\n",
    "The variable $\\Phi$ is the Thiele modulus, expressed as follows:\n",
    "\n",
    "\\begin{equation}\n",
    "\\Phi = \\frac{d_p}{2}\\sqrt{\\frac{\\nu (n+1) a_i \\rho_c k_i P^{n-1} R_g T_p}{2 M_c D_{eff}}}\n",
    "\\end{equation}\n",
    "\n",
    "This definition of the Thiele modulus is equivalent to one used during the classes:\n",
    "\n",
    "\\begin{equation}\n",
    "\\Phi = \\sqrt{\\frac{n+1}{2}} \\Phi_n\n",
    "\\end{equation}"
   ]
  },
  {
   "cell_type": "markdown",
   "metadata": {
    "nbpresent": {
     "id": "bc6c76bb-f29f-45c2-95e0-61209efdc99d"
    },
    "slideshow": {
     "slide_type": "subslide"
    }
   },
   "source": [
    "If the conversion occurs in pore diffusion-limited regime, the effectiveness factor can be simplified to:\n",
    "\n",
    "\\begin{equation}\n",
    "\\eta \\simeq \\frac{3}{\\Phi} = \\sqrt{\\frac{2}{n+1}}\\frac{3}{\\Phi_n},\n",
    "\\end{equation}\n",
    "\n",
    "which is the formulation of the effectiveness factor in pore diffusion regime in the slides."
   ]
  },
  {
   "cell_type": "markdown",
   "metadata": {
    "slideshow": {
     "slide_type": "subslide"
    }
   },
   "source": [
    "The diffusion flux through the film layer is given by:\n",
    "\n",
    "\\begin{equation}\n",
    "q_d = -\\alpha k_{d} P_t \\ln \\frac{x_\\infty - \\alpha}{x_s - \\alpha},\n",
    "\\end{equation}\n",
    "\n",
    "where the diffusion constant rate $k_{d} is$:\n",
    "\n",
    "\\begin{equation}\n",
    "k_{d}=\\frac{\\text{Sh}D M_c}{R_g T_m d_p},\n",
    "\\end{equation}\n",
    "\n",
    "and $\\alpha=\\frac{N}{N_{tot}}$ is the molar ratio between the total flux (= carbon flux) and the flux of the reactant. The molar fluxes are taken into account with their sign. I.e. reactant has a negative molar flux and the carbon flux is positive. Therefore $\\alpha < 1$.\n",
    "\n",
    "For the Boudouard reaction $N_{tot} = N_{CO} + N_{CO2} = 2 -1 = 1$ and $N_{CO2} = -1$, than $\\alpha=-1$."
   ]
  },
  {
   "cell_type": "markdown",
   "metadata": {
    "nbpresent": {
     "id": "6171b2f7-f55a-4794-be3a-79de77835636"
    },
    "slideshow": {
     "slide_type": "subslide"
    }
   },
   "source": [
    "$q_d$ is the char mass rate per external surface unit:\n",
    "\n",
    "\\begin{equation}\n",
    "R = \\frac{6 q_d}{\\rho_c d_p}\n",
    "\\end{equation}\n",
    "\n",
    "The partial pressure $P_s$ can be calculated iteratively, solving the following equation\n",
    "\n",
    "\\begin{equation}\n",
    "\\eta a_i k_i \\left(x_s P_t\\right) ^n = \\frac{6 \\alpha k_{d}}{\\rho_c d_p} P_t \\ln \\frac{x_s - \\alpha}{x_\\infty - \\alpha}\n",
    "\\end{equation}\n",
    "\n",
    "The Brent method can be used for solving numerically the non-linear equation (http://mathworld.wolfram.com/BrentsMethod.html)."
   ]
  },
  {
   "cell_type": "markdown",
   "metadata": {},
   "source": [
    "## Diffusivity\n",
    "\n",
    "The molecular diffusivity of the reactant can be calculated from:\n",
    "\n",
    "\\begin{equation}\n",
    "D = K \\cdot \\frac{\\left( \\frac{T}{273.15}\\right)^{1.81}}{\\frac{P_t}{101325}}\n",
    "\\end{equation}\n",
    "\n",
    "The constant $K$ for CO2 in N2 mixture is:"
   ]
  },
  {
   "cell_type": "code",
   "execution_count": 22,
   "metadata": {
    "collapsed": false
   },
   "outputs": [
    {
     "name": "stdout",
     "output_type": "stream",
     "text": [
      "K=1.402e-05\n"
     ]
    }
   ],
   "source": [
    "print('K={:4.3e}'.format(char.DT1))"
   ]
  },
  {
   "cell_type": "code",
   "execution_count": 11,
   "metadata": {
    "collapsed": true,
    "slideshow": {
     "slide_type": "subslide"
    }
   },
   "outputs": [],
   "source": [
    "T = np.linspace(1200,2500) # temperature points\n",
    "Deff = char.diffusivity(pressure=Ptot*atm,temperature=T) * eps1/tauf\n",
    "# define a data array Npoints x 5\n",
    "data = np.empty((len(T), 5))\n",
    "for i, (Ti, deffi) in enumerate(zip(T, Deff)):\n",
    "    data[i] = char.chi_parameter(dp=dp, Ptot=Ptot, Pinf=Ptot, Tinf=Ti, Tp=Ti, \n",
    "                                 rhoc=rhoc1, Aint=Aint0, Deff=deffi, \n",
    "                                 kinetics=kin, nu=1, Sh=2)\n",
    "    "
   ]
  },
  {
   "cell_type": "code",
   "execution_count": 12,
   "metadata": {
    "collapsed": true,
    "slideshow": {
     "slide_type": "skip"
    }
   },
   "outputs": [],
   "source": [
    "# copy values\n",
    "ps = data[:, 0]      # surface pressure, atm\n",
    "chi = data[:, 1]     # diffusion coefficient\n",
    "rate = data[:, 2]    # rate 1/s\n",
    "eff = data[:, 3]     # effectiveness factor\n",
    "thiele = data[:, 4]  # Thiele modulus"
   ]
  },
  {
   "cell_type": "code",
   "execution_count": 13,
   "metadata": {
    "code_folding": [
     0,
     6,
     8,
     10
    ],
    "collapsed": false,
    "slideshow": {
     "slide_type": "subslide"
    }
   },
   "outputs": [
    {
     "data": {
      "image/png": "[encoded data removed]",
      "text/plain": [
       "<matplotlib.figure.Figure at 0x7f60dc06b358>"
      ]
     },
     "metadata": {},
     "output_type": "display_data"
    }
   ],
   "source": [
    "# plot 3-zone\n",
    "fig, ax = plt.subplots(nrows=1, ncols=1, sharex='col', figsize=(6, 4))\n",
    "red = \"#C54E6D\"\n",
    "green = \"#009380\"\n",
    "# upper plot\n",
    "one_T = 1000./T\n",
    "ax.plot(one_T, rate, label='Observed rate', color='black', linestyle='solid', \n",
    "        linewidth=3)\n",
    "ax.plot(one_T, rate/eff, label='Kinetic rate', color='black', \n",
    "        linestyle='dashed', linewidth=1)\n",
    "ax.plot(one_T, rate/chi, label='Diffusion rate', color='black', \n",
    "        linestyle='dashed', linewidth=1)\n",
    "ax.set_yscale('log')\n",
    "ax.set_ylabel('Rate, 1/s')\n",
    "ax.set_ylim([1e-2, 1e4])\n",
    "ax.set_xlabel('$1/T_p$, 1000/K')\n",
    "ax.set_xticklabels([])\n",
    "ax.set_xlim(xmax=0.8)\n",
    "\n",
    "T_label = [2500, 2200, 2000, 1800, 1600, 1400, 1200]\n",
    "ax.set_xticks(1000./np.array(T_label))\n",
    "ax.set_xticklabels(T_label)\n",
    "ax1 = ax.twinx()\n",
    "ax1.plot(one_T, chi, label='$\\\\chi$', color=green, linewidth=3)\n",
    "ax1.plot(one_T, eff, label='$\\eta$', color=red, linewidth=3)\n",
    "ax1.set_ylabel('$\\\\eta$, $\\\\chi$')\n",
    "ax1.legend(loc='best')\n",
    "ax1.grid(False)\n",
    "ax1.locator_params(axis='y', nbins=5)\n",
    "#ax1.set_xlim(xmax=0.8);\n",
    "fig.savefig('3zone.pdf', bbox_inches='tight')"
   ]
  },
  {
   "cell_type": "markdown",
   "metadata": {
    "nbpresent": {
     "id": "a7ddd8fd-bee8-4356-877c-89a1b3cd6cc5"
    },
    "slideshow": {
     "slide_type": "slide"
    }
   },
   "source": [
    "### Drop tube reactor analysis\n",
    "\n",
    "Char conversion is now analyzed in a drop tube reactor. \n",
    "The non-dimensional mass conversion is governed by the following equation:\n",
    "\n",
    "\\begin{equation}\n",
    "\\frac{dX}{dt}=R (1-X),\n",
    "\\end{equation}\n",
    "\n",
    "where then observed rate is given by $R = \\eta k_i a_i P_s^n $.\n",
    "The particle temperature is given by:\n",
    "\n",
    "\\begin{equation}\n",
    "m_p c_p \\frac{dT_p}{dt} = h \\frac{B}{e^B-1} A_p \\left(T_g -T_p\\right)+\\sigma \\epsilon A_p \\left( T_w^4-T_p^4\\right) - R m_c \\Delta H_r\n",
    "\\end{equation}\n",
    "\n",
    "The ODE system is numerically solved using scientific python (`scipy`)."
   ]
  },
  {
   "cell_type": "markdown",
   "metadata": {
    "slideshow": {
     "slide_type": "subslide"
    }
   },
   "source": [
    "The heat of the Boudouard reaction can be calculate by the energy balance of the reaction at the reference temperature:\n",
    "\n",
    "\\begin{equation}\n",
    "\\sum_{r}\\nu_r h_{f,r} = \\sum_{p}\\nu_p h_{f,p} - \\Delta H_r\n",
    "\\end{equation}"
   ]
  },
  {
   "cell_type": "code",
   "execution_count": 14,
   "metadata": {
    "collapsed": false,
    "slideshow": {
     "slide_type": "-"
    }
   },
   "outputs": [
    {
     "name": "stdout",
     "output_type": "stream",
     "text": [
      "Heat of reaction C+CO2: 10.01 MJ/kg\n"
     ]
    }
   ],
   "source": [
    "hfCO2 = -394.39  #kJ/mol\n",
    "hfCO = -137.16  #kJ/mol\n",
    "hfC = 0\n",
    "DHr = 2 * hfCO - hfCO2 - hfC  # kJ/mol\n",
    "DHr = DHr / 12.0 * 1e6  # J/kg\n",
    "print('Heat of reaction C+CO2: {:5.2f} MJ/kg'.format(DHr / 1e6))"
   ]
  },
  {
   "cell_type": "markdown",
   "metadata": {
    "slideshow": {
     "slide_type": "subslide"
    }
   },
   "source": [
    "The ODE is solved calling an external function in the `char.py` module:"
   ]
  },
  {
   "cell_type": "code",
   "execution_count": 15,
   "metadata": {
    "collapsed": false,
    "slideshow": {
     "slide_type": "-"
    }
   },
   "outputs": [],
   "source": [
    "time = 0.5  #overall residence time\n",
    "sol = char.drop_tube(\n",
    "    Tp0=Tp,\n",
    "    time=time,\n",
    "    dp0=dp,\n",
    "    Ptot=Ptot,\n",
    "    Pinf=Pg,\n",
    "    Tg=Tg,\n",
    "    Twall=Twall,\n",
    "    rhop0=rho1,\n",
    "    A0=Aint0,\n",
    "    yash0=yash1,\n",
    "    psi=psi0,\n",
    "    tauf=tauf,\n",
    "    DH=DHr,\n",
    "    kinetics=kin,\n",
    "    nu=1.0,\n",
    "    Sh=2.0)"
   ]
  },
  {
   "cell_type": "code",
   "execution_count": 16,
   "metadata": {
    "collapsed": false,
    "nbpresent": {
     "id": "e833e0b9-ce50-4ec0-a253-82afc7346154"
    },
    "slideshow": {
     "slide_type": "skip"
    }
   },
   "outputs": [],
   "source": [
    "t = sol[0]\n",
    "X = sol[1]\n",
    "TP = sol[2]\n",
    "Rhoc = sol[4]\n",
    "Rhop = sol[5]\n",
    "Chi = sol[6]\n",
    "Robs = sol[7]\n",
    "Blow = sol[8]\n",
    "Eff = sol[9]\n",
    "Dp = sol[10]"
   ]
  },
  {
   "cell_type": "markdown",
   "metadata": {
    "nbpresent": {
     "id": "a41b234a-8b02-42d7-b9ad-1b4b65a5a801"
    },
    "slideshow": {
     "slide_type": "subslide"
    }
   },
   "source": [
    "The char conversion as a function of the time is plotted:"
   ]
  },
  {
   "cell_type": "code",
   "execution_count": 17,
   "metadata": {
    "code_folding": [],
    "collapsed": false,
    "nbpresent": {
     "id": "b099e9a3-b5bd-4f2b-a1bb-865bfdf3ff0b"
    }
   },
   "outputs": [
    {
     "data": {
      "text/plain": [
       "(0, 1)"
      ]
     },
     "execution_count": 17,
     "metadata": {},
     "output_type": "execute_result"
    },
    {
     "data": {
      "image/png": "[encoded data removed]",
      "text/plain": [
       "<matplotlib.figure.Figure at 0x7f6105379f28>"
      ]
     },
     "metadata": {},
     "output_type": "display_data"
    }
   ],
   "source": [
    "#plt.figure(0)\n",
    "fig, ax = plt.subplots(nrows=1, ncols=1, sharex='col', figsize=(5, 3))\n",
    "ax.plot(t,X, label='X')\n",
    "ax.set_xlabel('$t$, s')\n",
    "ax.set_ylabel('Char conversion $X$')\n",
    "ax.set_ylim([0, 1])\n",
    "#plt.legend()\n"
   ]
  },
  {
   "cell_type": "markdown",
   "metadata": {
    "nbpresent": {
     "id": "9bf91776-f4ff-4340-ab3b-03abd8d500a8"
    },
    "slideshow": {
     "slide_type": "subslide"
    }
   },
   "source": [
    "The particle is intruduced at ambient temperature and it is heated up very quickly:"
   ]
  },
  {
   "cell_type": "code",
   "execution_count": 18,
   "metadata": {
    "code_folding": [
     0
    ],
    "collapsed": false,
    "nbpresent": {
     "id": "afd101a1-ad65-4428-b042-b62f64331fc4"
    }
   },
   "outputs": [
    {
     "data": {
      "text/plain": [
       "<matplotlib.text.Text at 0x7f60d21b63c8>"
      ]
     },
     "execution_count": 18,
     "metadata": {},
     "output_type": "execute_result"
    },
    {
     "data": {
      "image/png": "[encoded data removed]",
      "text/plain": [
       "<matplotlib.figure.Figure at 0x7f60d21267b8>"
      ]
     },
     "metadata": {},
     "output_type": "display_data"
    }
   ],
   "source": [
    "#fig, ax = plt.subplots()\n",
    "fig, axes = plt.subplots(nrows=1, ncols=1, sharex='col', figsize=(5, 3))\n",
    "\n",
    "ax = axes\n",
    "#ax.set_xlim([0,0.01])\n",
    "ax.plot(t, TP, label='Particle')\n",
    "ax.plot(t, Tg*np.ones_like(TP), label='Gas')\n",
    "\n",
    "ax.set_ylim(ymax=1700)\n",
    "ax.set_ylabel('Temperature, K')\n",
    "ax.legend(loc='best')\n",
    "\n",
    "#ax = axes[1]\n",
    "#plt.xlim([0,0.02])\n",
    "#ax.plot(t,TP,'k-',linewidth=2,label='Particle')\n",
    "#ax.plot(np.array([t[0],t[-1]]),np.array([Tg,Tg]),'r-',linewidth=2,label='Gas')\n",
    "#ax.xlabel('t, s')\n",
    "#ax.set_ylabel('Temperature, K')\n",
    "ax.set_xlabel('t, s')\n",
    "#ax.legend()\n",
    "\n"
   ]
  },
  {
   "cell_type": "markdown",
   "metadata": {
    "nbpresent": {
     "id": "7efbd044-7b0e-4edb-993a-8aa357d3b54d"
    },
    "slideshow": {
     "slide_type": "subslide"
    }
   },
   "source": [
    "The apparent density of char evolves according to:\n",
    "\n",
    "\\begin{equation}\n",
    "\\rho_c = \\rho_{c,0}\\left( 1-X \\right)^\\alpha\n",
    "\\end{equation}\n",
    "\n",
    "with $\\alpha=0.95$.\n",
    "The apparent density of the particle is:\n",
    "\n",
    "\\begin{equation}\n",
    "\\frac{1}{\\rho_p} = \\frac{1-y_{a}}{\\rho_c}+\\frac{y_{a}}{\\rho_a}\n",
    "\\end{equation}\n",
    "\n",
    "and $\\rho_a$ is assumed constant during conversion."
   ]
  },
  {
   "cell_type": "code",
   "execution_count": 19,
   "metadata": {
    "code_folding": [],
    "collapsed": false,
    "nbpresent": {
     "id": "9ff20b78-aa93-43c9-b583-23c18669ab1b"
    }
   },
   "outputs": [
    {
     "data": {
      "text/plain": [
       "<matplotlib.legend.Legend at 0x7f60d20d0d68>"
      ]
     },
     "execution_count": 19,
     "metadata": {},
     "output_type": "execute_result"
    },
    {
     "data": {
      "image/png": "[encoded data removed]",
      "text/plain": [
       "<matplotlib.figure.Figure at 0x7f6105421358>"
      ]
     },
     "metadata": {},
     "output_type": "display_data"
    }
   ],
   "source": [
    "# \n",
    "fig, ax = plt.subplots(nrows=1, ncols=1, sharex='col', figsize=(5, 3))\n",
    "ax.plot(X,Rhoc, label='Char')\n",
    "ax.plot(X,Rhop, label='Particle')\n",
    "ax.set_xlabel('Char conversion')\n",
    "ax.set_ylabel('Density, kg/m3')\n",
    "ax.set_xlim([0, 1])\n",
    "ax.legend()"
   ]
  },
  {
   "cell_type": "markdown",
   "metadata": {
    "nbpresent": {
     "id": "a3a7ed03-d72a-425e-86ad-4c0c75898b6a"
    },
    "slideshow": {
     "slide_type": "subslide"
    }
   },
   "source": [
    "The parameters $\\eta$, $\\chi$ and the blowing factor $B/(e^B-1)$ are plotted:"
   ]
  },
  {
   "cell_type": "code",
   "execution_count": 20,
   "metadata": {
    "code_folding": [
     0
    ],
    "collapsed": false,
    "nbpresent": {
     "id": "037fcef0-9b67-4a77-8790-6549188d1874"
    }
   },
   "outputs": [
    {
     "data": {
      "text/plain": [
       "<matplotlib.legend.Legend at 0x7f60d204eb38>"
      ]
     },
     "execution_count": 20,
     "metadata": {},
     "output_type": "execute_result"
    },
    {
     "data": {
      "image/png": "[encoded data removed]",
      "text/plain": [
       "<matplotlib.figure.Figure at 0x7f60d20663c8>"
      ]
     },
     "metadata": {},
     "output_type": "display_data"
    }
   ],
   "source": [
    "#plt.legend()\n",
    "fig, ax = plt.subplots(nrows=1, ncols=1, sharex='col', figsize=(5, 3))\n",
    "\n",
    "ax.set_ylim([0,1.1])\n",
    "#plt.xlim([0,0.1])\n",
    "ax.plot(t, Eff, label='$\\eta$')\n",
    "ax.plot(t, Blow, label='$B/(e^B-1)$')\n",
    "ax.plot(t, Chi, label='$\\chi$')\n",
    "ax.set_xlabel('t, s')\n",
    "#ax.ylabel('')\n",
    "ax.legend(loc=4)"
   ]
  },
  {
   "cell_type": "markdown",
   "metadata": {
    "nbpresent": {
     "id": "ad084c83-6efb-48bc-bcc2-73ee30441e76"
    },
    "slideshow": {
     "slide_type": "subslide"
    }
   },
   "source": [
    "The diameter evolves as follows:"
   ]
  },
  {
   "cell_type": "code",
   "execution_count": 21,
   "metadata": {
    "collapsed": false,
    "nbpresent": {
     "id": "254546ba-46fc-4483-8bed-0aab018fec4d"
    }
   },
   "outputs": [
    {
     "data": {
      "text/plain": [
       "(0, 1)"
      ]
     },
     "execution_count": 21,
     "metadata": {},
     "output_type": "execute_result"
    },
    {
     "data": {
      "image/png": "[encoded data removed]",
      "text/plain": [
       "<matplotlib.figure.Figure at 0x7f60d1fe2e10>"
      ]
     },
     "metadata": {},
     "output_type": "display_data"
    }
   ],
   "source": [
    "fig, ax = plt.subplots(nrows=1, ncols=1, sharex='col', figsize=(5, 3))\n",
    "X = np.array(X)\n",
    "a = char.RPM(X,1,psi0)*(1.-X)\n",
    "ax.plot(X,Dp/Dp[0], label='$d_p/d_p0$')\n",
    "ax.plot(X,a, label='$A_i/A_{i,0}$')\n",
    "ax.set_xlabel('X')\n",
    "ax.legend(loc=3)\n",
    "ax.set_xlim([0, 1])"
   ]
  }
 ],
 "metadata": {
  "celltoolbar": "Slideshow",
  "hide_input": false,
  "kernelspec": {
   "display_name": "Python 3",
   "language": "python",
   "name": "python3"
  },
  "language_info": {
   "codemirror_mode": {
    "name": "ipython",
    "version": 3
   },
   "file_extension": ".py",
   "mimetype": "text/x-python",
   "name": "python",
   "nbconvert_exporter": "python",
   "pygments_lexer": "ipython3",
   "version": "3.5.2"
  },
  "nav_menu": {},
  "nbpresent": {
   "slides": {
    "d4c7729b-f422-48cc-91e5-e909b0a65b96": {
     "id": "d4c7729b-f422-48cc-91e5-e909b0a65b96",
     "layout": "manual",
     "prev": null,
     "regions": {
      "3e3d5b9d-b81d-42cb-9bbc-88ae04c97931": {
       "attrs": {
        "height": 0.8,
        "width": 0.8,
        "x": 0.1,
        "y": 0.1
       },
       "content": {
        "cell": "f5632ddc-5446-4fb8-a421-00753dbaa8f8",
        "part": "source"
       },
       "id": "3e3d5b9d-b81d-42cb-9bbc-88ae04c97931"
      }
     }
    }
   },
   "themes": {}
  },
  "toc": {
   "nav_menu": {
    "height": "86px",
    "width": "252px"
   },
   "navigate_menu": true,
   "number_sections": true,
   "sideBar": true,
   "threshold": 6,
   "toc_cell": false,
   "toc_section_display": "block",
   "toc_window_display": false
  }
 },
 "nbformat": 4,
 "nbformat_minor": 0
}
